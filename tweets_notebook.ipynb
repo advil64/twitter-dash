{
 "cells": [
  {
   "cell_type": "markdown",
   "metadata": {},
   "source": [
    "### Big thanks to Susan Li for the awesome tutorial on LDA\n",
    "[https://towardsdatascience.com/topic-modeling-and-latent-dirichlet-allocation-in-python-9bf156893c24]\n",
    "\n",
    "This Notebook was inspired by the Medium article above and is written by Advith Chegu for HackDown 2020. Some more sources:\n",
    "\n",
    "[https://medium.com/@osas.usen/topic-extraction-from-tweets-using-lda-a997e4eb0985]\n",
    "\n",
    "[https://www.kaggle.com/therohk/million-headlines/data]"
   ]
  },
  {
   "cell_type": "code",
   "execution_count": 39,
   "metadata": {},
   "outputs": [
    {
     "name": "stderr",
     "output_type": "stream",
     "text": [
      "/Users/advithchegu/.local/share/virtualenvs/twitter-dash--SggTynj/lib/python3.7/site-packages/ipykernel_launcher.py:7: SettingWithCopyWarning: \n",
      "A value is trying to be set on a copy of a slice from a DataFrame.\n",
      "Try using .loc[row_indexer,col_indexer] = value instead\n",
      "\n",
      "See the caveats in the documentation: http://pandas.pydata.org/pandas-docs/stable/indexing.html#indexing-view-versus-copy\n",
      "  import sys\n"
     ]
    }
   ],
   "source": [
    "import pandas as pd\n",
    "DATASET_COLUMNS  = [\"sentiment\", \"ids\", \"date\", \"flag\", \"user\", \"text\"]\n",
    "DATASET_ENCODING = \"ISO-8859-1\"\n",
    "data = pd.read_csv('training.1600000.processed.noemoticon.csv', encoding=DATASET_ENCODING , names=DATASET_COLUMNS)\n",
    "data_text = data[['text']]\n",
    "data_text.set_index('text', drop=True, append=False, inplace=False, verify_integrity=False)\n",
    "data_text['index'] = data_text.index\n",
    "documents = data_text"
   ]
  },
  {
   "cell_type": "code",
   "execution_count": 40,
   "metadata": {},
   "outputs": [
    {
     "name": "stdout",
     "output_type": "stream",
     "text": [
      "1600000\n",
      "                                                text  index\n",
      "0  @switchfoot http://twitpic.com/2y1zl - Awww, t...      0\n",
      "1  is upset that he can't update his Facebook by ...      1\n",
      "2  @Kenichan I dived many times for the ball. Man...      2\n",
      "3    my whole body feels itchy and like its on fire       3\n",
      "4  @nationwideclass no, it's not behaving at all....      4\n"
     ]
    }
   ],
   "source": [
    "print(len(documents))\n",
    "print(documents[:5])"
   ]
  },
  {
   "cell_type": "code",
   "execution_count": 5,
   "metadata": {},
   "outputs": [
    {
     "name": "stderr",
     "output_type": "stream",
     "text": [
      "[nltk_data] Downloading package wordnet to\n",
      "[nltk_data]     /Users/advithchegu/nltk_data...\n",
      "[nltk_data]   Unzipping corpora/wordnet.zip.\n"
     ]
    },
    {
     "data": {
      "text/plain": [
       "True"
      ]
     },
     "execution_count": 5,
     "metadata": {},
     "output_type": "execute_result"
    }
   ],
   "source": [
    "import gensim\n",
    "from gensim.utils import simple_preprocess\n",
    "from gensim.parsing.preprocessing import STOPWORDS\n",
    "from nltk.stem import WordNetLemmatizer, SnowballStemmer\n",
    "from nltk.stem.porter import *\n",
    "import numpy as np\n",
    "np.random.seed(2018)\n",
    "import nltk\n",
    "nltk.download('wordnet')"
   ]
  },
  {
   "cell_type": "code",
   "execution_count": 46,
   "metadata": {},
   "outputs": [],
   "source": [
    "stemmer = SnowballStemmer(\"english\")\n",
    "stop_words = ['http']"
   ]
  },
  {
   "cell_type": "code",
   "execution_count": 49,
   "metadata": {},
   "outputs": [],
   "source": [
    "def lemmatize_stemming(text):\n",
    "    return stemmer.stem(WordNetLemmatizer().lemmatize(text, pos='v'))\n",
    "def preprocess(text):\n",
    "    result = []\n",
    "    for token in gensim.utils.simple_preprocess(text):\n",
    "        if token not in gensim.parsing.preprocessing.STOPWORDS and len(token) > 3 and token not in stop_words and '@' not in token:\n",
    "            result.append(lemmatize_stemming(token))\n",
    "    return result"
   ]
  },
  {
   "cell_type": "code",
   "execution_count": 50,
   "metadata": {},
   "outputs": [
    {
     "name": "stdout",
     "output_type": "stream",
     "text": [
      "original document: \n",
      "['explain', 'how,', 'jazmine', 'got', 'from', 'http://is.gd/raX6', 'to', 'http://is.gd/raWM.', '', 'perhaps', 'im', 'being', 'elitist', 'but', 'its', 'so', 'disappointing', '']\n",
      "\n",
      "\n",
      " tokenized and lemmatized document: \n",
      "['explain', 'jazmin', 'rawm', 'elitist', 'disappoint']\n"
     ]
    }
   ],
   "source": [
    "doc_sample = documents[documents['index'] == 4310].values[0][0]\n",
    "print('original document: ')\n",
    "words = []\n",
    "for word in doc_sample.split(' '):\n",
    "    words.append(word)\n",
    "print(words)\n",
    "print('\\n\\n tokenized and lemmatized document: ')\n",
    "print(preprocess(doc_sample))"
   ]
  },
  {
   "cell_type": "code",
   "execution_count": 52,
   "metadata": {},
   "outputs": [
    {
     "data": {
      "text/plain": [
       "0    [switchfoot, twitpic, awww, bummer, shoulda, d...\n",
       "1    [upset, updat, facebook, text, result, school,...\n",
       "2    [kenichan, dive, time, ball, manag, save, rest...\n",
       "3                            [bodi, feel, itchi, like]\n",
       "4                             [nationwideclass, behav]\n",
       "5                                     [kwesidei, crew]\n",
       "6                                               [need]\n",
       "7            [loltrish, long, time, rain, fine, thank]\n",
       "8                                    [tatiana_k, nope]\n",
       "9                                    [twittera, muera]\n",
       "Name: text, dtype: object"
      ]
     },
     "execution_count": 52,
     "metadata": {},
     "output_type": "execute_result"
    }
   ],
   "source": [
    "processed_docs = documents['text'].map(preprocess)\n",
    "processed_docs[:10]"
   ]
  },
  {
   "cell_type": "code",
   "execution_count": 15,
   "metadata": {
    "scrolled": true
   },
   "outputs": [
    {
     "name": "stdout",
     "output_type": "stream",
     "text": [
      "0 broadcast\n",
      "1 communiti\n",
      "2 decid\n",
      "3 licenc\n",
      "4 awar\n",
      "5 defam\n",
      "6 wit\n",
      "7 call\n",
      "8 infrastructur\n",
      "9 protect\n",
      "10 summit\n"
     ]
    }
   ],
   "source": [
    "dictionary = gensim.corpora.Dictionary(processed_docs)\n",
    "count = 0\n",
    "for k, v in dictionary.iteritems():\n",
    "    print(k, v)\n",
    "    count += 1\n",
    "    if count > 10:\n",
    "        break"
   ]
  },
  {
   "cell_type": "code",
   "execution_count": 16,
   "metadata": {},
   "outputs": [],
   "source": [
    "dictionary.filter_extremes(no_below=15, no_above=0.5, keep_n=100000)"
   ]
  },
  {
   "cell_type": "code",
   "execution_count": 17,
   "metadata": {},
   "outputs": [
    {
     "data": {
      "text/plain": [
       "[(162, 1), (240, 1), (292, 1), (589, 1), (838, 1), (3567, 1), (3568, 1)]"
      ]
     },
     "execution_count": 17,
     "metadata": {},
     "output_type": "execute_result"
    }
   ],
   "source": [
    "bow_corpus = [dictionary.doc2bow(doc) for doc in processed_docs]\n",
    "bow_corpus[4310]"
   ]
  },
  {
   "cell_type": "code",
   "execution_count": 18,
   "metadata": {},
   "outputs": [
    {
     "name": "stdout",
     "output_type": "stream",
     "text": [
      "Word 162 (\"govt\") appears 1 time.\n",
      "Word 240 (\"group\") appears 1 time.\n",
      "Word 292 (\"vote\") appears 1 time.\n",
      "Word 589 (\"local\") appears 1 time.\n",
      "Word 838 (\"want\") appears 1 time.\n",
      "Word 3567 (\"compulsori\") appears 1 time.\n",
      "Word 3568 (\"ratepay\") appears 1 time.\n"
     ]
    }
   ],
   "source": [
    "bow_doc_4310 = bow_corpus[4310]\n",
    "for i in range(len(bow_doc_4310)):\n",
    "    print(\"Word {} (\\\"{}\\\") appears {} time.\".format(bow_doc_4310[i][0], \n",
    "                                               dictionary[bow_doc_4310[i][0]], \n",
    "bow_doc_4310[i][1]))"
   ]
  },
  {
   "cell_type": "code",
   "execution_count": 19,
   "metadata": {},
   "outputs": [
    {
     "name": "stdout",
     "output_type": "stream",
     "text": [
      "[(0, 0.5850076620505259),\n",
      " (1, 0.38947256567331934),\n",
      " (2, 0.4997099083387053),\n",
      " (3, 0.5063271308533074)]\n"
     ]
    }
   ],
   "source": [
    "from gensim import corpora, models\n",
    "tfidf = models.TfidfModel(bow_corpus)\n",
    "corpus_tfidf = tfidf[bow_corpus]\n",
    "from pprint import pprint\n",
    "for doc in corpus_tfidf:\n",
    "    pprint(doc)\n",
    "    break"
   ]
  },
  {
   "cell_type": "code",
   "execution_count": 20,
   "metadata": {},
   "outputs": [],
   "source": [
    "lda_model = gensim.models.LdaMulticore(bow_corpus, num_topics=10, id2word=dictionary, passes=2, workers=2)"
   ]
  },
  {
   "cell_type": "code",
   "execution_count": 21,
   "metadata": {},
   "outputs": [
    {
     "name": "stdout",
     "output_type": "stream",
     "text": [
      "Topic: 0 \n",
      "Words: 0.022*\"hous\" + 0.022*\"south\" + 0.019*\"north\" + 0.017*\"bushfir\" + 0.016*\"miss\" + 0.013*\"interview\" + 0.012*\"west\" + 0.012*\"hospit\" + 0.011*\"island\" + 0.011*\"coast\"\n",
      "Topic: 1 \n",
      "Words: 0.032*\"kill\" + 0.023*\"shoot\" + 0.021*\"protest\" + 0.021*\"dead\" + 0.020*\"polic\" + 0.019*\"attack\" + 0.014*\"offic\" + 0.014*\"assault\" + 0.013*\"chines\" + 0.011*\"michael\"\n",
      "Topic: 2 \n",
      "Words: 0.057*\"australia\" + 0.046*\"australian\" + 0.026*\"world\" + 0.018*\"canberra\" + 0.017*\"test\" + 0.013*\"win\" + 0.011*\"final\" + 0.011*\"farm\" + 0.010*\"return\" + 0.009*\"beat\"\n",
      "Topic: 3 \n",
      "Words: 0.030*\"polic\" + 0.029*\"charg\" + 0.026*\"court\" + 0.024*\"death\" + 0.024*\"murder\" + 0.020*\"woman\" + 0.017*\"face\" + 0.016*\"alleg\" + 0.015*\"crash\" + 0.013*\"trial\"\n",
      "Topic: 4 \n",
      "Words: 0.019*\"chang\" + 0.019*\"say\" + 0.015*\"speak\" + 0.015*\"power\" + 0.013*\"worker\" + 0.012*\"climat\" + 0.012*\"concern\" + 0.011*\"flood\" + 0.010*\"fear\" + 0.010*\"emerg\"\n",
      "Topic: 5 \n",
      "Words: 0.021*\"market\" + 0.020*\"news\" + 0.018*\"women\" + 0.018*\"live\" + 0.016*\"tasmania\" + 0.013*\"high\" + 0.013*\"rise\" + 0.012*\"price\" + 0.012*\"lose\" + 0.012*\"break\"\n",
      "Topic: 6 \n",
      "Words: 0.035*\"elect\" + 0.018*\"water\" + 0.018*\"state\" + 0.016*\"tasmanian\" + 0.013*\"labor\" + 0.011*\"liber\" + 0.011*\"morrison\" + 0.011*\"leader\" + 0.011*\"parti\" + 0.010*\"campaign\"\n",
      "Topic: 7 \n",
      "Words: 0.020*\"donald\" + 0.014*\"farmer\" + 0.014*\"nation\" + 0.013*\"time\" + 0.013*\"rural\" + 0.012*\"council\" + 0.012*\"indigen\" + 0.012*\"school\" + 0.011*\"plan\" + 0.011*\"commiss\"\n",
      "Topic: 8 \n",
      "Words: 0.044*\"trump\" + 0.037*\"year\" + 0.035*\"sydney\" + 0.028*\"queensland\" + 0.022*\"home\" + 0.021*\"adelaid\" + 0.018*\"perth\" + 0.016*\"brisban\" + 0.015*\"peopl\" + 0.015*\"royal\"\n",
      "Topic: 9 \n",
      "Words: 0.031*\"govern\" + 0.019*\"feder\" + 0.016*\"warn\" + 0.015*\"countri\" + 0.015*\"fund\" + 0.015*\"claim\" + 0.014*\"life\" + 0.013*\"health\" + 0.012*\"say\" + 0.012*\"stori\"\n"
     ]
    }
   ],
   "source": [
    "for idx, topic in lda_model.print_topics(-1):\n",
    "    print('Topic: {} \\nWords: {}'.format(idx, topic))"
   ]
  },
  {
   "cell_type": "code",
   "execution_count": 22,
   "metadata": {},
   "outputs": [
    {
     "data": {
      "text/plain": [
       "['ratepay', 'group', 'want', 'compulsori', 'local', 'govt', 'vote']"
      ]
     },
     "execution_count": 22,
     "metadata": {},
     "output_type": "execute_result"
    }
   ],
   "source": [
    "processed_docs[4310]"
   ]
  },
  {
   "cell_type": "code",
   "execution_count": 23,
   "metadata": {},
   "outputs": [
    {
     "name": "stdout",
     "output_type": "stream",
     "text": [
      "\n",
      "Score: 0.45240768790245056\t \n",
      "Topic: 0.020*\"donald\" + 0.014*\"farmer\" + 0.014*\"nation\" + 0.013*\"time\" + 0.013*\"rural\" + 0.012*\"council\" + 0.012*\"indigen\" + 0.012*\"school\" + 0.011*\"plan\" + 0.011*\"commiss\"\n",
      "\n",
      "Score: 0.44756072759628296\t \n",
      "Topic: 0.031*\"govern\" + 0.019*\"feder\" + 0.016*\"warn\" + 0.015*\"countri\" + 0.015*\"fund\" + 0.015*\"claim\" + 0.014*\"life\" + 0.013*\"health\" + 0.012*\"say\" + 0.012*\"stori\"\n",
      "\n",
      "Score: 0.012506908737123013\t \n",
      "Topic: 0.035*\"elect\" + 0.018*\"water\" + 0.018*\"state\" + 0.016*\"tasmanian\" + 0.013*\"labor\" + 0.011*\"liber\" + 0.011*\"morrison\" + 0.011*\"leader\" + 0.011*\"parti\" + 0.010*\"campaign\"\n",
      "\n",
      "Score: 0.012503824196755886\t \n",
      "Topic: 0.019*\"chang\" + 0.019*\"say\" + 0.015*\"speak\" + 0.015*\"power\" + 0.013*\"worker\" + 0.012*\"climat\" + 0.012*\"concern\" + 0.011*\"flood\" + 0.010*\"fear\" + 0.010*\"emerg\"\n",
      "\n",
      "Score: 0.012503472156822681\t \n",
      "Topic: 0.022*\"hous\" + 0.022*\"south\" + 0.019*\"north\" + 0.017*\"bushfir\" + 0.016*\"miss\" + 0.013*\"interview\" + 0.012*\"west\" + 0.012*\"hospit\" + 0.011*\"island\" + 0.011*\"coast\"\n",
      "\n",
      "Score: 0.012503472156822681\t \n",
      "Topic: 0.032*\"kill\" + 0.023*\"shoot\" + 0.021*\"protest\" + 0.021*\"dead\" + 0.020*\"polic\" + 0.019*\"attack\" + 0.014*\"offic\" + 0.014*\"assault\" + 0.013*\"chines\" + 0.011*\"michael\"\n",
      "\n",
      "Score: 0.012503472156822681\t \n",
      "Topic: 0.057*\"australia\" + 0.046*\"australian\" + 0.026*\"world\" + 0.018*\"canberra\" + 0.017*\"test\" + 0.013*\"win\" + 0.011*\"final\" + 0.011*\"farm\" + 0.010*\"return\" + 0.009*\"beat\"\n",
      "\n",
      "Score: 0.012503472156822681\t \n",
      "Topic: 0.030*\"polic\" + 0.029*\"charg\" + 0.026*\"court\" + 0.024*\"death\" + 0.024*\"murder\" + 0.020*\"woman\" + 0.017*\"face\" + 0.016*\"alleg\" + 0.015*\"crash\" + 0.013*\"trial\"\n",
      "\n",
      "Score: 0.012503472156822681\t \n",
      "Topic: 0.021*\"market\" + 0.020*\"news\" + 0.018*\"women\" + 0.018*\"live\" + 0.016*\"tasmania\" + 0.013*\"high\" + 0.013*\"rise\" + 0.012*\"price\" + 0.012*\"lose\" + 0.012*\"break\"\n",
      "\n",
      "Score: 0.012503472156822681\t \n",
      "Topic: 0.044*\"trump\" + 0.037*\"year\" + 0.035*\"sydney\" + 0.028*\"queensland\" + 0.022*\"home\" + 0.021*\"adelaid\" + 0.018*\"perth\" + 0.016*\"brisban\" + 0.015*\"peopl\" + 0.015*\"royal\"\n"
     ]
    }
   ],
   "source": [
    "for index, score in sorted(lda_model[bow_corpus[4310]], key=lambda tup: -1*tup[1]):\n",
    "    print(\"\\nScore: {}\\t \\nTopic: {}\".format(score, lda_model.print_topic(index, 10)))"
   ]
  },
  {
   "cell_type": "code",
   "execution_count": 27,
   "metadata": {},
   "outputs": [
    {
     "name": "stdout",
     "output_type": "stream",
     "text": [
      "\n",
      "Score: 0.4523957371711731\t \n",
      "Topic: 0.020*\"donald\" + 0.014*\"farmer\" + 0.014*\"nation\" + 0.013*\"time\" + 0.013*\"rural\" + 0.012*\"council\" + 0.012*\"indigen\" + 0.012*\"school\" + 0.011*\"plan\" + 0.011*\"commiss\"\n",
      "\n",
      "Score: 0.4475727081298828\t \n",
      "Topic: 0.031*\"govern\" + 0.019*\"feder\" + 0.016*\"warn\" + 0.015*\"countri\" + 0.015*\"fund\" + 0.015*\"claim\" + 0.014*\"life\" + 0.013*\"health\" + 0.012*\"say\" + 0.012*\"stori\"\n",
      "\n",
      "Score: 0.012506899423897266\t \n",
      "Topic: 0.035*\"elect\" + 0.018*\"water\" + 0.018*\"state\" + 0.016*\"tasmanian\" + 0.013*\"labor\" + 0.011*\"liber\" + 0.011*\"morrison\" + 0.011*\"leader\" + 0.011*\"parti\" + 0.010*\"campaign\"\n",
      "\n",
      "Score: 0.012503824196755886\t \n",
      "Topic: 0.019*\"chang\" + 0.019*\"say\" + 0.015*\"speak\" + 0.015*\"power\" + 0.013*\"worker\" + 0.012*\"climat\" + 0.012*\"concern\" + 0.011*\"flood\" + 0.010*\"fear\" + 0.010*\"emerg\"\n",
      "\n",
      "Score: 0.012503471225500107\t \n",
      "Topic: 0.022*\"hous\" + 0.022*\"south\" + 0.019*\"north\" + 0.017*\"bushfir\" + 0.016*\"miss\" + 0.013*\"interview\" + 0.012*\"west\" + 0.012*\"hospit\" + 0.011*\"island\" + 0.011*\"coast\"\n",
      "\n",
      "Score: 0.012503471225500107\t \n",
      "Topic: 0.032*\"kill\" + 0.023*\"shoot\" + 0.021*\"protest\" + 0.021*\"dead\" + 0.020*\"polic\" + 0.019*\"attack\" + 0.014*\"offic\" + 0.014*\"assault\" + 0.013*\"chines\" + 0.011*\"michael\"\n",
      "\n",
      "Score: 0.012503471225500107\t \n",
      "Topic: 0.057*\"australia\" + 0.046*\"australian\" + 0.026*\"world\" + 0.018*\"canberra\" + 0.017*\"test\" + 0.013*\"win\" + 0.011*\"final\" + 0.011*\"farm\" + 0.010*\"return\" + 0.009*\"beat\"\n",
      "\n",
      "Score: 0.012503471225500107\t \n",
      "Topic: 0.030*\"polic\" + 0.029*\"charg\" + 0.026*\"court\" + 0.024*\"death\" + 0.024*\"murder\" + 0.020*\"woman\" + 0.017*\"face\" + 0.016*\"alleg\" + 0.015*\"crash\" + 0.013*\"trial\"\n",
      "\n",
      "Score: 0.012503471225500107\t \n",
      "Topic: 0.021*\"market\" + 0.020*\"news\" + 0.018*\"women\" + 0.018*\"live\" + 0.016*\"tasmania\" + 0.013*\"high\" + 0.013*\"rise\" + 0.012*\"price\" + 0.012*\"lose\" + 0.012*\"break\"\n",
      "\n",
      "Score: 0.012503471225500107\t \n",
      "Topic: 0.044*\"trump\" + 0.037*\"year\" + 0.035*\"sydney\" + 0.028*\"queensland\" + 0.022*\"home\" + 0.021*\"adelaid\" + 0.018*\"perth\" + 0.016*\"brisban\" + 0.015*\"peopl\" + 0.015*\"royal\"\n"
     ]
    }
   ],
   "source": [
    "for index, score in sorted(lda_model[bow_corpus[4310]], key=lambda tup: -1*tup[1]):\n",
    "    print(\"\\nScore: {}\\t \\nTopic: {}\".format(score, lda_model.print_topic(index, 10)))"
   ]
  },
  {
   "cell_type": "code",
   "execution_count": 28,
   "metadata": {},
   "outputs": [
    {
     "name": "stdout",
     "output_type": "stream",
     "text": [
      "Score: 0.4888320863246918\t Topic: 0.021*\"market\" + 0.020*\"news\" + 0.018*\"women\" + 0.018*\"live\" + 0.016*\"tasmania\"\n",
      "Score: 0.21149252355098724\t Topic: 0.035*\"elect\" + 0.018*\"water\" + 0.018*\"state\" + 0.016*\"tasmanian\" + 0.013*\"labor\"\n",
      "Score: 0.1829376220703125\t Topic: 0.030*\"polic\" + 0.029*\"charg\" + 0.026*\"court\" + 0.024*\"death\" + 0.024*\"murder\"\n",
      "Score: 0.0166774932295084\t Topic: 0.019*\"chang\" + 0.019*\"say\" + 0.015*\"speak\" + 0.015*\"power\" + 0.013*\"worker\"\n",
      "Score: 0.01667742244899273\t Topic: 0.031*\"govern\" + 0.019*\"feder\" + 0.016*\"warn\" + 0.015*\"countri\" + 0.015*\"fund\"\n",
      "Score: 0.016676567494869232\t Topic: 0.022*\"hous\" + 0.022*\"south\" + 0.019*\"north\" + 0.017*\"bushfir\" + 0.016*\"miss\"\n",
      "Score: 0.016676567494869232\t Topic: 0.032*\"kill\" + 0.023*\"shoot\" + 0.021*\"protest\" + 0.021*\"dead\" + 0.020*\"polic\"\n",
      "Score: 0.016676567494869232\t Topic: 0.057*\"australia\" + 0.046*\"australian\" + 0.026*\"world\" + 0.018*\"canberra\" + 0.017*\"test\"\n",
      "Score: 0.016676567494869232\t Topic: 0.020*\"donald\" + 0.014*\"farmer\" + 0.014*\"nation\" + 0.013*\"time\" + 0.013*\"rural\"\n",
      "Score: 0.016676567494869232\t Topic: 0.044*\"trump\" + 0.037*\"year\" + 0.035*\"sydney\" + 0.028*\"queensland\" + 0.022*\"home\"\n"
     ]
    }
   ],
   "source": [
    "unseen_document = 'How a Pentagon deal became an identity crisis for Google'\n",
    "bow_vector = dictionary.doc2bow(preprocess(unseen_document))\n",
    "for index, score in sorted(lda_model[bow_vector], key=lambda tup: -1*tup[1]):\n",
    "    print(\"Score: {}\\t Topic: {}\".format(score, lda_model.print_topic(index, 5)))"
   ]
  },
  {
   "cell_type": "code",
   "execution_count": null,
   "metadata": {},
   "outputs": [],
   "source": []
  }
 ],
 "metadata": {
  "kernelspec": {
   "display_name": "twitter-dash",
   "language": "python",
   "name": "twitter-dash"
  },
  "language_info": {
   "codemirror_mode": {
    "name": "ipython",
    "version": 3
   },
   "file_extension": ".py",
   "mimetype": "text/x-python",
   "name": "python",
   "nbconvert_exporter": "python",
   "pygments_lexer": "ipython3",
   "version": "3.7.4"
  }
 },
 "nbformat": 4,
 "nbformat_minor": 2
}
